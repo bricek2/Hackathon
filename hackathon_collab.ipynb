{
  "nbformat": 4,
  "nbformat_minor": 0,
  "metadata": {
    "colab": {
      "provenance": []
    },
    "kernelspec": {
      "name": "python3",
      "display_name": "Python 3"
    },
    "language_info": {
      "name": "python"
    },
    "accelerator": "GPU"
  },
  "cells": [
    {
      "cell_type": "code",
      "execution_count": 9,
      "metadata": {
        "id": "1eLu-72EhkiV"
      },
      "outputs": [],
      "source": [
        " ! pip install -q kaggle"
      ]
    },
    {
      "cell_type": "code",
      "source": [],
      "metadata": {
        "colab": {
          "base_uri": "https://localhost:8080/",
          "height": 90
        },
        "id": "dNN29xM0hxT_",
        "outputId": "0cfb30c2-70c0-4d35-8ed7-4ce18bebc955"
      },
      "execution_count": 11,
      "outputs": [
        {
          "output_type": "display_data",
          "data": {
            "text/plain": [
              "<IPython.core.display.HTML object>"
            ],
            "text/html": [
              "\n",
              "     <input type=\"file\" id=\"files-9c429fbc-ea0a-4399-a0a7-c20b17570c7b\" name=\"files[]\" multiple disabled\n",
              "        style=\"border:none\" />\n",
              "     <output id=\"result-9c429fbc-ea0a-4399-a0a7-c20b17570c7b\">\n",
              "      Upload widget is only available when the cell has been executed in the\n",
              "      current browser session. Please rerun this cell to enable.\n",
              "      </output>\n",
              "      <script>// Copyright 2017 Google LLC\n",
              "//\n",
              "// Licensed under the Apache License, Version 2.0 (the \"License\");\n",
              "// you may not use this file except in compliance with the License.\n",
              "// You may obtain a copy of the License at\n",
              "//\n",
              "//      http://www.apache.org/licenses/LICENSE-2.0\n",
              "//\n",
              "// Unless required by applicable law or agreed to in writing, software\n",
              "// distributed under the License is distributed on an \"AS IS\" BASIS,\n",
              "// WITHOUT WARRANTIES OR CONDITIONS OF ANY KIND, either express or implied.\n",
              "// See the License for the specific language governing permissions and\n",
              "// limitations under the License.\n",
              "\n",
              "/**\n",
              " * @fileoverview Helpers for google.colab Python module.\n",
              " */\n",
              "(function(scope) {\n",
              "function span(text, styleAttributes = {}) {\n",
              "  const element = document.createElement('span');\n",
              "  element.textContent = text;\n",
              "  for (const key of Object.keys(styleAttributes)) {\n",
              "    element.style[key] = styleAttributes[key];\n",
              "  }\n",
              "  return element;\n",
              "}\n",
              "\n",
              "// Max number of bytes which will be uploaded at a time.\n",
              "const MAX_PAYLOAD_SIZE = 100 * 1024;\n",
              "\n",
              "function _uploadFiles(inputId, outputId) {\n",
              "  const steps = uploadFilesStep(inputId, outputId);\n",
              "  const outputElement = document.getElementById(outputId);\n",
              "  // Cache steps on the outputElement to make it available for the next call\n",
              "  // to uploadFilesContinue from Python.\n",
              "  outputElement.steps = steps;\n",
              "\n",
              "  return _uploadFilesContinue(outputId);\n",
              "}\n",
              "\n",
              "// This is roughly an async generator (not supported in the browser yet),\n",
              "// where there are multiple asynchronous steps and the Python side is going\n",
              "// to poll for completion of each step.\n",
              "// This uses a Promise to block the python side on completion of each step,\n",
              "// then passes the result of the previous step as the input to the next step.\n",
              "function _uploadFilesContinue(outputId) {\n",
              "  const outputElement = document.getElementById(outputId);\n",
              "  const steps = outputElement.steps;\n",
              "\n",
              "  const next = steps.next(outputElement.lastPromiseValue);\n",
              "  return Promise.resolve(next.value.promise).then((value) => {\n",
              "    // Cache the last promise value to make it available to the next\n",
              "    // step of the generator.\n",
              "    outputElement.lastPromiseValue = value;\n",
              "    return next.value.response;\n",
              "  });\n",
              "}\n",
              "\n",
              "/**\n",
              " * Generator function which is called between each async step of the upload\n",
              " * process.\n",
              " * @param {string} inputId Element ID of the input file picker element.\n",
              " * @param {string} outputId Element ID of the output display.\n",
              " * @return {!Iterable<!Object>} Iterable of next steps.\n",
              " */\n",
              "function* uploadFilesStep(inputId, outputId) {\n",
              "  const inputElement = document.getElementById(inputId);\n",
              "  inputElement.disabled = false;\n",
              "\n",
              "  const outputElement = document.getElementById(outputId);\n",
              "  outputElement.innerHTML = '';\n",
              "\n",
              "  const pickedPromise = new Promise((resolve) => {\n",
              "    inputElement.addEventListener('change', (e) => {\n",
              "      resolve(e.target.files);\n",
              "    });\n",
              "  });\n",
              "\n",
              "  const cancel = document.createElement('button');\n",
              "  inputElement.parentElement.appendChild(cancel);\n",
              "  cancel.textContent = 'Cancel upload';\n",
              "  const cancelPromise = new Promise((resolve) => {\n",
              "    cancel.onclick = () => {\n",
              "      resolve(null);\n",
              "    };\n",
              "  });\n",
              "\n",
              "  // Wait for the user to pick the files.\n",
              "  const files = yield {\n",
              "    promise: Promise.race([pickedPromise, cancelPromise]),\n",
              "    response: {\n",
              "      action: 'starting',\n",
              "    }\n",
              "  };\n",
              "\n",
              "  cancel.remove();\n",
              "\n",
              "  // Disable the input element since further picks are not allowed.\n",
              "  inputElement.disabled = true;\n",
              "\n",
              "  if (!files) {\n",
              "    return {\n",
              "      response: {\n",
              "        action: 'complete',\n",
              "      }\n",
              "    };\n",
              "  }\n",
              "\n",
              "  for (const file of files) {\n",
              "    const li = document.createElement('li');\n",
              "    li.append(span(file.name, {fontWeight: 'bold'}));\n",
              "    li.append(span(\n",
              "        `(${file.type || 'n/a'}) - ${file.size} bytes, ` +\n",
              "        `last modified: ${\n",
              "            file.lastModifiedDate ? file.lastModifiedDate.toLocaleDateString() :\n",
              "                                    'n/a'} - `));\n",
              "    const percent = span('0% done');\n",
              "    li.appendChild(percent);\n",
              "\n",
              "    outputElement.appendChild(li);\n",
              "\n",
              "    const fileDataPromise = new Promise((resolve) => {\n",
              "      const reader = new FileReader();\n",
              "      reader.onload = (e) => {\n",
              "        resolve(e.target.result);\n",
              "      };\n",
              "      reader.readAsArrayBuffer(file);\n",
              "    });\n",
              "    // Wait for the data to be ready.\n",
              "    let fileData = yield {\n",
              "      promise: fileDataPromise,\n",
              "      response: {\n",
              "        action: 'continue',\n",
              "      }\n",
              "    };\n",
              "\n",
              "    // Use a chunked sending to avoid message size limits. See b/62115660.\n",
              "    let position = 0;\n",
              "    do {\n",
              "      const length = Math.min(fileData.byteLength - position, MAX_PAYLOAD_SIZE);\n",
              "      const chunk = new Uint8Array(fileData, position, length);\n",
              "      position += length;\n",
              "\n",
              "      const base64 = btoa(String.fromCharCode.apply(null, chunk));\n",
              "      yield {\n",
              "        response: {\n",
              "          action: 'append',\n",
              "          file: file.name,\n",
              "          data: base64,\n",
              "        },\n",
              "      };\n",
              "\n",
              "      let percentDone = fileData.byteLength === 0 ?\n",
              "          100 :\n",
              "          Math.round((position / fileData.byteLength) * 100);\n",
              "      percent.textContent = `${percentDone}% done`;\n",
              "\n",
              "    } while (position < fileData.byteLength);\n",
              "  }\n",
              "\n",
              "  // All done.\n",
              "  yield {\n",
              "    response: {\n",
              "      action: 'complete',\n",
              "    }\n",
              "  };\n",
              "}\n",
              "\n",
              "scope.google = scope.google || {};\n",
              "scope.google.colab = scope.google.colab || {};\n",
              "scope.google.colab._files = {\n",
              "  _uploadFiles,\n",
              "  _uploadFilesContinue,\n",
              "};\n",
              "})(self);\n",
              "</script> "
            ]
          },
          "metadata": {}
        },
        {
          "output_type": "stream",
          "name": "stdout",
          "text": [
            "Saving kaggle.json to kaggle.json\n"
          ]
        },
        {
          "output_type": "execute_result",
          "data": {
            "text/plain": [
              "{'kaggle.json': b'{\"username\":\"bricekramer\",\"key\":\"95f13bd353d4da092beb8da6071c7088\"}'}"
            ]
          },
          "metadata": {},
          "execution_count": 11
        }
      ]
    },
    {
      "cell_type": "code",
      "source": [
        "import numpy as np\n",
        "import matplotlib.pyplot as plt\n",
        "\n",
        "from keras.layers import Dense, Conv2D, MaxPool2D, Dropout, Flatten\n",
        "from keras.models import Sequential\n",
        "from keras.preprocessing.image import ImageDataGenerator\n",
        "\n",
        "from tensorflow.keras.applications import EfficientNetB0\n",
        "from tensorflow.keras.layers import GlobalAveragePooling2D\n",
        "from tensorflow.keras.optimizers import Adam"
      ],
      "metadata": {
        "id": "_LUY-7yjlDdX"
      },
      "execution_count": 2,
      "outputs": []
    },
    {
      "cell_type": "code",
      "source": [
        "import os\n",
        "\n",
        "os.environ['KAGGLE_USERNAME'] = \"bricekramer\"\n",
        "\n",
        "os.environ['KAGGLE_KEY'] = \"95f13bd353d4da092beb8da6071c7088\""
      ],
      "metadata": {
        "id": "1cAVWC0PkC9u"
      },
      "execution_count": 6,
      "outputs": []
    },
    {
      "cell_type": "code",
      "source": [
        "!kaggle datasets download -d gpiosenka/sports-classification"
      ],
      "metadata": {
        "colab": {
          "base_uri": "https://localhost:8080/"
        },
        "id": "tCv3u7Maju7b",
        "outputId": "3acda8a7-94f6-43a0-c93b-a219baa0ffa9"
      },
      "execution_count": 7,
      "outputs": [
        {
          "output_type": "stream",
          "name": "stdout",
          "text": [
            "Downloading sports-classification.zip to /content\n",
            "100% 475M/477M [00:14<00:00, 28.8MB/s]\n",
            "100% 477M/477M [00:14<00:00, 34.3MB/s]\n"
          ]
        }
      ]
    },
    {
      "cell_type": "code",
      "source": [
        "import zipfile\n",
        "with zipfile.ZipFile('sports-classification.zip',\"r\") as zip_ref:\n",
        "     zip_ref.extractall(\"sports\")"
      ],
      "metadata": {
        "id": "cTpQEnS3kdSS"
      },
      "execution_count": 8,
      "outputs": []
    },
    {
      "cell_type": "code",
      "source": [
        "train_path = 'sports/train/'\n",
        "test_path = 'sports/test/'"
      ],
      "metadata": {
        "id": "RAj0DvDjlOBI"
      },
      "execution_count": 9,
      "outputs": []
    },
    {
      "cell_type": "code",
      "source": [
        "train_gen = ImageDataGenerator(rescale = 1/255)\n",
        "test_gen = ImageDataGenerator(rescale = 1/255)"
      ],
      "metadata": {
        "id": "KCi6A-bAlN69"
      },
      "execution_count": 10,
      "outputs": []
    },
    {
      "cell_type": "code",
      "source": [
        "plt.imshow(plt.imread(train_path + 'baseball/001.jpg'));"
      ],
      "metadata": {
        "colab": {
          "base_uri": "https://localhost:8080/",
          "height": 269
        },
        "id": "NqZeFGP6lNuO",
        "outputId": "e8da5c09-f2f4-4f6c-92e9-04f195989a0c"
      },
      "execution_count": 11,
      "outputs": [
        {
          "output_type": "display_data",
          "data": {
            "text/plain": [
              "<Figure size 432x288 with 1 Axes>"
            ],
            "image/png": "[encoded data removed]"
          },
          "metadata": {
            "needs_background": "light"
          }
        }
      ]
    },
    {
      "cell_type": "code",
      "source": [
        "train_data = train_gen.flow_from_directory(\n",
        "    train_path,\n",
        "    class_mode='categorical'\n",
        ")\n",
        "\n",
        "test_data = test_gen.flow_from_directory(\n",
        "    test_path,\n",
        "    class_mode='categorical'\n",
        ")"
      ],
      "metadata": {
        "colab": {
          "base_uri": "https://localhost:8080/"
        },
        "id": "BC0vPPSfmIb7",
        "outputId": "0c84909e-daa8-48c6-a115-000fcb3efe83"
      },
      "execution_count": 12,
      "outputs": [
        {
          "output_type": "stream",
          "name": "stdout",
          "text": [
            "Found 13572 images belonging to 100 classes.\n",
            "Found 500 images belonging to 100 classes.\n"
          ]
        }
      ]
    },
    {
      "cell_type": "code",
      "source": [
        "effnet = EfficientNetB0(include_top=False, weights='imagenet')"
      ],
      "metadata": {
        "colab": {
          "base_uri": "https://localhost:8080/"
        },
        "id": "G2ZcWeE5mX3y",
        "outputId": "38e9a8ea-5137-48f0-dc15-380971ab8aaa"
      },
      "execution_count": 13,
      "outputs": [
        {
          "output_type": "stream",
          "name": "stdout",
          "text": [
            "Downloading data from https://storage.googleapis.com/keras-applications/efficientnetb0_notop.h5\n",
            "16711680/16705208 [==============================] - 0s 0us/step\n",
            "16719872/16705208 [==============================] - 0s 0us/step\n"
          ]
        }
      ]
    },
    {
      "cell_type": "code",
      "source": [
        "model = Sequential()\n",
        "model.add(effnet)\n",
        "model.add(GlobalAveragePooling2D())\n",
        "model.add(Dense(1))\n",
        "model.add(Dropout(0.2))\n",
        "model.add(Dense(100, activation = 'softmax'))\n",
        "model.summary()"
      ],
      "metadata": {
        "colab": {
          "base_uri": "https://localhost:8080/"
        },
        "id": "oXknjf8amX7m",
        "outputId": "11a36086-0a7c-4039-b726-c92e5a484900"
      },
      "execution_count": 14,
      "outputs": [
        {
          "output_type": "stream",
          "name": "stdout",
          "text": [
            "Model: \"sequential\"\n",
            "_________________________________________________________________\n",
            " Layer (type)                Output Shape              Param #   \n",
            "=================================================================\n",
            " efficientnetb0 (Functional)  (None, None, None, 1280)  4049571  \n",
            "                                                                 \n",
            " global_average_pooling2d (G  (None, 1280)             0         \n",
            " lobalAveragePooling2D)                                          \n",
            "                                                                 \n",
            " dense (Dense)               (None, 1)                 1281      \n",
            "                                                                 \n",
            " dropout (Dropout)           (None, 1)                 0         \n",
            "                                                                 \n",
            " dense_1 (Dense)             (None, 100)               200       \n",
            "                                                                 \n",
            "=================================================================\n",
            "Total params: 4,051,052\n",
            "Trainable params: 4,009,029\n",
            "Non-trainable params: 42,023\n",
            "_________________________________________________________________\n"
          ]
        }
      ]
    },
    {
      "cell_type": "code",
      "source": [
        "model.compile(loss='categorical_crossentropy', optimizer='adam', metrics=['accuracy'])"
      ],
      "metadata": {
        "id": "W9ECMQkUmX-v"
      },
      "execution_count": 15,
      "outputs": []
    },
    {
      "cell_type": "code",
      "source": [
        "history = model.fit(train_data,\n",
        "                    batch_size=10,\n",
        "                    validation_data = test_data,\n",
        "                    validation_batch_size=10,\n",
        "                    epochs = 10)"
      ],
      "metadata": {
        "colab": {
          "base_uri": "https://localhost:8080/"
        },
        "id": "4F-gPZN0mYBP",
        "outputId": "54757a7c-3c96-42d5-cb89-19f67e98fb32"
      },
      "execution_count": 16,
      "outputs": [
        {
          "output_type": "stream",
          "name": "stdout",
          "text": [
            "Epoch 1/10\n",
            "425/425 [==============================] - 191s 402ms/step - loss: 4.4350 - accuracy: 0.0198 - val_loss: 5.1856 - val_accuracy: 0.0100\n",
            "Epoch 2/10\n",
            "425/425 [==============================] - 168s 395ms/step - loss: 4.2460 - accuracy: 0.0256 - val_loss: 4.7653 - val_accuracy: 0.0120\n",
            "Epoch 3/10\n",
            "425/425 [==============================] - 170s 399ms/step - loss: 4.1503 - accuracy: 0.0294 - val_loss: 4.8145 - val_accuracy: 0.0100\n",
            "Epoch 4/10\n",
            "425/425 [==============================] - 169s 397ms/step - loss: 4.1053 - accuracy: 0.0332 - val_loss: 4.9005 - val_accuracy: 0.0100\n",
            "Epoch 5/10\n",
            "425/425 [==============================] - 169s 398ms/step - loss: 4.0653 - accuracy: 0.0335 - val_loss: 5.0833 - val_accuracy: 0.0140\n",
            "Epoch 6/10\n",
            "425/425 [==============================] - 170s 400ms/step - loss: 4.0166 - accuracy: 0.0344 - val_loss: 4.7334 - val_accuracy: 0.0080\n",
            "Epoch 7/10\n",
            "425/425 [==============================] - 170s 399ms/step - loss: 4.0378 - accuracy: 0.0388 - val_loss: 4.8368 - val_accuracy: 0.0080\n",
            "Epoch 8/10\n",
            "425/425 [==============================] - 170s 399ms/step - loss: 4.0256 - accuracy: 0.0365 - val_loss: 5.2259 - val_accuracy: 0.0020\n",
            "Epoch 9/10\n",
            "425/425 [==============================] - 169s 397ms/step - loss: 3.9410 - accuracy: 0.0387 - val_loss: 5.7572 - val_accuracy: 0.0140\n",
            "Epoch 10/10\n",
            "425/425 [==============================] - 170s 399ms/step - loss: 3.9102 - accuracy: 0.0467 - val_loss: 5.9024 - val_accuracy: 0.0180\n"
          ]
        }
      ]
    },
    {
      "cell_type": "code",
      "source": [
        "test_preds = model.predict(test_data)"
      ],
      "metadata": {
        "id": "QZ2Qlx0CuDcP"
      },
      "execution_count": 17,
      "outputs": []
    },
    {
      "cell_type": "code",
      "source": [
        "y_preds = test_preds.argmax(axis=-1)"
      ],
      "metadata": {
        "id": "t_3BYnsvuszN"
      },
      "execution_count": 19,
      "outputs": []
    },
    {
      "cell_type": "code",
      "source": [
        "preds_dict = {v:k for k,v in test_data.class_indices.items()}"
      ],
      "metadata": {
        "id": "5rnw72FMu65b"
      },
      "execution_count": 20,
      "outputs": []
    },
    {
      "cell_type": "code",
      "source": [
        "import pandas as pd"
      ],
      "metadata": {
        "id": "8C2FFEWavU-n"
      },
      "execution_count": 22,
      "outputs": []
    },
    {
      "cell_type": "code",
      "source": [
        "test_sports_preds = pd.Series(y_preds).map(preds_dict)"
      ],
      "metadata": {
        "id": "vtgl51w9vFM7"
      },
      "execution_count": 23,
      "outputs": []
    },
    {
      "cell_type": "code",
      "source": [
        "test_sports_preds[:5]"
      ],
      "metadata": {
        "colab": {
          "base_uri": "https://localhost:8080/"
        },
        "id": "E_xXfVEOvYbN",
        "outputId": "75b722c0-4e12-4bdd-d9af-18f4fa766ecd"
      },
      "execution_count": 24,
      "outputs": [
        {
          "output_type": "execute_result",
          "data": {
            "text/plain": [
              "0    field hockey\n",
              "1        football\n",
              "2    giant slalom\n",
              "3       skydiving\n",
              "4        football\n",
              "dtype: object"
            ]
          },
          "metadata": {},
          "execution_count": 24
        }
      ]
    },
    {
      "cell_type": "code",
      "source": [
        "test_sports_preds[0]"
      ],
      "metadata": {
        "colab": {
          "base_uri": "https://localhost:8080/",
          "height": 35
        },
        "id": "0dnr9F7tx25J",
        "outputId": "0943f1b0-c814-49e7-cb3e-7b5fa8272452"
      },
      "execution_count": 40,
      "outputs": [
        {
          "output_type": "execute_result",
          "data": {
            "text/plain": [
              "'field hockey'"
            ],
            "application/vnd.google.colaboratory.intrinsic+json": {
              "type": "string"
            }
          },
          "metadata": {},
          "execution_count": 40
        }
      ]
    },
    {
      "cell_type": "code",
      "source": [
        "test_sports_preds.value_counts(normalize = True ).head(20).plot(kind='bar')\n",
        "plt.xlabel\n",
        "plt.show()"
      ],
      "metadata": {
        "colab": {
          "base_uri": "https://localhost:8080/",
          "height": 364
        },
        "id": "-IbRoLZgvrTj",
        "outputId": "2e97d151-5ad0-41fd-dc3b-de5a1e9ba5b7"
      },
      "execution_count": 25,
      "outputs": [
        {
          "output_type": "display_data",
          "data": {
            "text/plain": [
              "<Figure size 432x288 with 1 Axes>"
            ],
            "image/png": "[encoded data removed]"
          },
          "metadata": {
            "needs_background": "light"
          }
        }
      ]
    },
    {
      "cell_type": "code",
      "source": [
        "test_sports_preds.value_counts().head(20).plot(kind='bar')\n",
        "plt.xlabel\n",
        "plt.show()"
      ],
      "metadata": {
        "colab": {
          "base_uri": "https://localhost:8080/",
          "height": 364
        },
        "id": "r_XARfZtvupK",
        "outputId": "e4e3a2c3-b6d2-442c-87a4-4927bf2fde5d"
      },
      "execution_count": 26,
      "outputs": [
        {
          "output_type": "display_data",
          "data": {
            "text/plain": [
              "<Figure size 432x288 with 1 Axes>"
            ],
            "image/png": "[encoded data removed]"
          },
          "metadata": {
            "needs_background": "light"
          }
        }
      ]
    },
    {
      "cell_type": "code",
      "source": [
        "test_sports_preds[0]"
      ],
      "metadata": {
        "colab": {
          "base_uri": "https://localhost:8080/",
          "height": 35
        },
        "id": "s7oJ8aeixDsG",
        "outputId": "6937e959-995c-4211-998c-726764e10950"
      },
      "execution_count": 41,
      "outputs": [
        {
          "output_type": "execute_result",
          "data": {
            "text/plain": [
              "'field hockey'"
            ],
            "application/vnd.google.colaboratory.intrinsic+json": {
              "type": "string"
            }
          },
          "metadata": {},
          "execution_count": 41
        }
      ]
    },
    {
      "cell_type": "code",
      "source": [
        "test_data.class_indices.keys()"
      ],
      "metadata": {
        "colab": {
          "base_uri": "https://localhost:8080/"
        },
        "id": "XAXKMEKB1TFw",
        "outputId": "e1f1d856-582c-4cc4-fce8-321cc958e89a"
      },
      "execution_count": 44,
      "outputs": [
        {
          "output_type": "execute_result",
          "data": {
            "text/plain": [
              "dict_keys(['air hockey', 'ampute football', 'archery', 'arm wrestling', 'axe throwing', 'balance beam', 'barell racing', 'baseball', 'basketball', 'baton twirling', 'bike polo', 'billiards', 'bmx', 'bobsled', 'bowling', 'boxing', 'bull riding', 'bungee jumping', 'canoe slamon', 'cheerleading', 'chuckwagon racing', 'cricket', 'croquet', 'curling', 'disc golf', 'fencing', 'field hockey', 'figure skating men', 'figure skating pairs', 'figure skating women', 'fly fishing', 'football', 'formula 1 racing', 'frisbee', 'gaga', 'giant slalom', 'golf', 'hammer throw', 'hang gliding', 'harness racing', 'high jump', 'hockey', 'horse jumping', 'horse racing', 'horseshoe pitching', 'hurdles', 'hydroplane racing', 'ice climbing', 'ice yachting', 'jai alai', 'javelin', 'jousting', 'judo', 'lacrosse', 'log rolling', 'luge', 'motorcycle racing', 'mushing', 'nascar racing', 'olympic wrestling', 'parallel bar', 'pole climbing', 'pole dancing', 'pole vault', 'polo', 'pommel horse', 'rings', 'rock climbing', 'roller derby', 'rollerblade racing', 'rowing', 'rugby', 'sailboat racing', 'shot put', 'shuffleboard', 'sidecar racing', 'ski jumping', 'sky surfing', 'skydiving', 'snow boarding', 'snowmobile racing', 'speed skating', 'steer wrestling', 'sumo wrestling', 'surfing', 'swimming', 'table tennis', 'tennis', 'track bicycle', 'trapeze', 'tug of war', 'ultimate', 'uneven bars', 'volleyball', 'water cycling', 'water polo', 'weightlifting', 'wheelchair basketball', 'wheelchair racing', 'wingsuit flying'])"
            ]
          },
          "metadata": {},
          "execution_count": 44
        }
      ]
    },
    {
      "cell_type": "code",
      "source": [
        "for x in test_sports_preds:\n",
        "#  if test_data.class_indices.get_key\n",
        "#test_data.class_indices"
      ],
      "metadata": {
        "colab": {
          "base_uri": "https://localhost:8080/"
        },
        "id": "7hAh_IAUv4s2",
        "outputId": "2fd9afb4-69db-46d6-c623-9172616148d7"
      },
      "execution_count": 30,
      "outputs": [
        {
          "output_type": "execute_result",
          "data": {
            "text/plain": [
              "{'air hockey': 0,\n",
              " 'ampute football': 1,\n",
              " 'archery': 2,\n",
              " 'arm wrestling': 3,\n",
              " 'axe throwing': 4,\n",
              " 'balance beam': 5,\n",
              " 'barell racing': 6,\n",
              " 'baseball': 7,\n",
              " 'basketball': 8,\n",
              " 'baton twirling': 9,\n",
              " 'bike polo': 10,\n",
              " 'billiards': 11,\n",
              " 'bmx': 12,\n",
              " 'bobsled': 13,\n",
              " 'bowling': 14,\n",
              " 'boxing': 15,\n",
              " 'bull riding': 16,\n",
              " 'bungee jumping': 17,\n",
              " 'canoe slamon': 18,\n",
              " 'cheerleading': 19,\n",
              " 'chuckwagon racing': 20,\n",
              " 'cricket': 21,\n",
              " 'croquet': 22,\n",
              " 'curling': 23,\n",
              " 'disc golf': 24,\n",
              " 'fencing': 25,\n",
              " 'field hockey': 26,\n",
              " 'figure skating men': 27,\n",
              " 'figure skating pairs': 28,\n",
              " 'figure skating women': 29,\n",
              " 'fly fishing': 30,\n",
              " 'football': 31,\n",
              " 'formula 1 racing': 32,\n",
              " 'frisbee': 33,\n",
              " 'gaga': 34,\n",
              " 'giant slalom': 35,\n",
              " 'golf': 36,\n",
              " 'hammer throw': 37,\n",
              " 'hang gliding': 38,\n",
              " 'harness racing': 39,\n",
              " 'high jump': 40,\n",
              " 'hockey': 41,\n",
              " 'horse jumping': 42,\n",
              " 'horse racing': 43,\n",
              " 'horseshoe pitching': 44,\n",
              " 'hurdles': 45,\n",
              " 'hydroplane racing': 46,\n",
              " 'ice climbing': 47,\n",
              " 'ice yachting': 48,\n",
              " 'jai alai': 49,\n",
              " 'javelin': 50,\n",
              " 'jousting': 51,\n",
              " 'judo': 52,\n",
              " 'lacrosse': 53,\n",
              " 'log rolling': 54,\n",
              " 'luge': 55,\n",
              " 'motorcycle racing': 56,\n",
              " 'mushing': 57,\n",
              " 'nascar racing': 58,\n",
              " 'olympic wrestling': 59,\n",
              " 'parallel bar': 60,\n",
              " 'pole climbing': 61,\n",
              " 'pole dancing': 62,\n",
              " 'pole vault': 63,\n",
              " 'polo': 64,\n",
              " 'pommel horse': 65,\n",
              " 'rings': 66,\n",
              " 'rock climbing': 67,\n",
              " 'roller derby': 68,\n",
              " 'rollerblade racing': 69,\n",
              " 'rowing': 70,\n",
              " 'rugby': 71,\n",
              " 'sailboat racing': 72,\n",
              " 'shot put': 73,\n",
              " 'shuffleboard': 74,\n",
              " 'sidecar racing': 75,\n",
              " 'ski jumping': 76,\n",
              " 'sky surfing': 77,\n",
              " 'skydiving': 78,\n",
              " 'snow boarding': 79,\n",
              " 'snowmobile racing': 80,\n",
              " 'speed skating': 81,\n",
              " 'steer wrestling': 82,\n",
              " 'sumo wrestling': 83,\n",
              " 'surfing': 84,\n",
              " 'swimming': 85,\n",
              " 'table tennis': 86,\n",
              " 'tennis': 87,\n",
              " 'track bicycle': 88,\n",
              " 'trapeze': 89,\n",
              " 'tug of war': 90,\n",
              " 'ultimate': 91,\n",
              " 'uneven bars': 92,\n",
              " 'volleyball': 93,\n",
              " 'water cycling': 94,\n",
              " 'water polo': 95,\n",
              " 'weightlifting': 96,\n",
              " 'wheelchair basketball': 97,\n",
              " 'wheelchair racing': 98,\n",
              " 'wingsuit flying': 99}"
            ]
          },
          "metadata": {},
          "execution_count": 30
        }
      ]
    },
    {
      "cell_type": "code",
      "source": [],
      "metadata": {
        "id": "IP7RtQvYv5yo"
      },
      "execution_count": null,
      "outputs": []
    }
  ]
}